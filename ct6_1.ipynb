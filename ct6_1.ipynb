{
  "nbformat": 4,
  "nbformat_minor": 0,
  "metadata": {
    "colab": {
      "provenance": [],
      "authorship_tag": "ABX9TyP8u22mNsgTlaazwwmzdWUn",
      "include_colab_link": true
    },
    "kernelspec": {
      "name": "python3",
      "display_name": "Python 3"
    },
    "language_info": {
      "name": "python"
    }
  },
  "cells": [
    {
      "cell_type": "markdown",
      "metadata": {
        "id": "view-in-github",
        "colab_type": "text"
      },
      "source": [
        "<a href=\"https://colab.research.google.com/github/codpekfa/fust/blob/main/ct6_1.ipynb\" target=\"_parent\"><img src=\"https://colab.research.google.com/assets/colab-badge.svg\" alt=\"Open In Colab\"/></a>"
      ]
    },
    {
      "cell_type": "markdown",
      "source": [
        "사용자로터 3개의 정수를 받아 평수를 계산하는 알고리즘과 이것을 구합니다 "
      ],
      "metadata": {
        "id": "DYJ9y_kK0-Gf"
      }
    },
    {
      "cell_type": "code",
      "execution_count": 6,
      "metadata": {
        "colab": {
          "base_uri": "https://localhost:8080/"
        },
        "id": "4n-LYb1Xu1_2",
        "outputId": "8db8d5ec-8b65-4d9e-8e3f-5879e1d8f44e"
      },
      "outputs": [
        {
          "output_type": "stream",
          "name": "stdout",
          "text": [
            "n1의 값을 입력하시오.:4\n",
            "n2의 값을 입력하시오.:4\n",
            "n3의 값을 입력하시오.:4\n",
            "합= 12 평균= 4.0\n"
          ]
        }
      ],
      "source": [
        "n1=int(input(\"n1의 값을 입력하시오.:\")) # 사용자에게 n1을 정수형을 받아라\n",
        "n2=int(input(\"n2의 값을 입력하시오.:\")) # 사용자에게 n2을 정수형을 받아라\n",
        "n3=int(input(\"n3의 값을 입력하시오.:\")) # 사용자에게 n3을 정수형을 받아라\n",
        "total=n1+n2+n3                          # total변수에 n1,n2,n3의 합을 저장하라\n",
        "average=total/3                         # average변수애 total을 3을 나눈 평균값을 저장하라\n",
        "print('합=',total,'평균=',average)      # 합과 변수 total, 평균과 변수 average 값을 화면에 출력하라 "
      ]
    }
  ]
}