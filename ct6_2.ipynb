{
  "nbformat": 4,
  "nbformat_minor": 0,
  "metadata": {
    "colab": {
      "provenance": [],
      "authorship_tag": "ABX9TyPHUgBySnDMMLEF5GNCSkIA",
      "include_colab_link": true
    },
    "kernelspec": {
      "name": "python3",
      "display_name": "Python 3"
    },
    "language_info": {
      "name": "python"
    }
  },
  "cells": [
    {
      "cell_type": "markdown",
      "metadata": {
        "id": "view-in-github",
        "colab_type": "text"
      },
      "source": [
        "<a href=\"https://colab.research.google.com/github/codpekfa/fust/blob/main/ct6_2.ipynb\" target=\"_parent\"><img src=\"https://colab.research.google.com/assets/colab-badge.svg\" alt=\"Open In Colab\"/></a>"
      ]
    },
    {
      "cell_type": "code",
      "execution_count": null,
      "metadata": {
        "id": "qfQESAKlT0Zq"
      },
      "outputs": [],
      "source": [
        "total=0                                               # total값 0으로 시작\n",
        "counter= 1                                            # counter 1로 시작\n",
        "while counter <= 10:                                  # while로 시작\n",
        "      grade=int(input(\"grade의 값을 입력하시오.:\"))   # 사용자에게 grade를 정수형을 받아라\n",
        "      total=grade+total                               # 사용자에게 total을 정수형을 받아라\n",
        "      counter =  counter + 1                          # counter 변수에grade,total의 합을 저장하라\n",
        "average =  total / 10                                 # average변수에 total을 10을 나눈 평균값을 저장하라\n",
        "print('평균=',average)                                # 합과 변수 total, 평균과 변수 average 값을 화면에 출력하라 "
      ]
    },
    {
      "cell_type": "code",
      "execution_count": null,
      "metadata": {
        "colab": {
          "base_uri": "https://localhost:8080/"
        },
        "outputId": "8db8d5ec-8b65-4d9e-8e3f-5879e1d8f44e",
        "id": "vJWbWDMVp3AZ"
      },
      "outputs": [
        {
          "output_type": "stream",
          "name": "stdout",
          "text": [
            "n1의 값을 입력하시오.:4\n",
            "n2의 값을 입력하시오.:4\n",
            "n3의 값을 입력하시오.:4\n",
            "합= 12 평균= 4.0\n"
          ]
        }
      ],
      "source": [
        "ㅊ # 사용자에게 n1을 정수형을 받아라\n",
        "n2=int(input(\"n2의 값을 입력하시오.:\")) # 사용자에게 n2을 정수형을 받아라\n",
        "n3=int(input(\"n3의 값을 입력하시오.:\")) # 사용자에게 n3을 정수형을 받아라\n",
        "total=n1+n2+n3                          # total변수에 n1,n2,n3의 합을 저장하라\n",
        "average=total/3                         # average변수에 total을 3을 나눈 평균값을 저장하라\n",
        "print('합=',total,'평균=',average)      # 합과 변수 total, 평균과 변수 average 값을 화면에 출력하라 "
      ]
    },
    {
      "cell_type": "code",
      "execution_count": null,
      "metadata": {
        "colab": {
          "base_uri": "https://localhost:8080/"
        },
        "id": "4n-LYb1Xu1_2",
        "outputId": "8db8d5ec-8b65-4d9e-8e3f-5879e1d8f44e"
      },
      "outputs": [
        {
          "output_type": "stream",
          "name": "stdout",
          "text": [
            "n1의 값을 입력하시오.:4\n",
            "n2의 값을 입력하시오.:4\n",
            "n3의 값을 입력하시오.:4\n",
            "합= 12 평균= 4.0\n"
          ]
        }
      ],
      "source": [
        "ㅊ # 사용자에게 n1을 정수형을 받아라\n",
        "n2=int(input(\"n2의 값을 입력하시오.:\")) # 사용자에게 n2을 정수형을 받아라\n",
        "n3=int(input(\"n3의 값을 입력하시오.:\")) # 사용자에게 n3을 정수형을 받아라\n",
        "total=n1+n2+n3                          # total변수에 n1,n2,n3의 합을 저장하라\n",
        "average=total/3                         # average변수에 total을 3을 나눈 평균값을 저장하라\n",
        "print('합=',total,'평균=',average)      # 합과 변수 total, 평균과 변수 average 값을 화면에 출력하라 "
      ]
    },
    {
      "cell_type": "code",
      "execution_count": null,
      "metadata": {
        "id": "pf6jc7PipgFC"
      },
      "outputs": [],
      "source": [
        "total=0                                               # total값 0으로 시작\n",
        "counter= 1                                            # counter 1로 시작\n",
        "while counter <= 10:                                  # while로 시작\n",
        "      grade=int(input(\"grade의 값을 입력하시오.:\"))   # 사용자에게 grade를 정수형을 받아라\n",
        "      total=grade+total                               # \n",
        "      counter =  counter + 1                          #\n",
        "average =  total / 10                                 #\n",
        "print('평균=',average)                                #"
      ]
    },
    {
      "cell_type": "markdown",
      "source": [],
      "metadata": {
        "id": "0oytLcU5g1jv"
      }
    },
    {
      "cell_type": "markdown",
      "source": [
        "학생 10명의 성적을 입력받아 평균을 계산하는 알고리즘을 의사코드로 표현해 보자"
      ],
      "metadata": {
        "id": "pt82qfBWhgHd"
      }
    }
  ]
}